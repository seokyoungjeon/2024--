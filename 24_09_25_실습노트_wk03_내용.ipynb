{
  "nbformat": 4,
  "nbformat_minor": 0,
  "metadata": {
    "colab": {
      "provenance": []
    },
    "kernelspec": {
      "name": "python3",
      "display_name": "Python 3"
    },
    "language_info": {
      "name": "python"
    }
  },
  "cells": [
    {
      "cell_type": "code",
      "execution_count": 19,
      "metadata": {
        "id": "U_WXnbhJRelL",
        "colab": {
          "base_uri": "https://localhost:8080/"
        },
        "outputId": "cdba2c41-2c42-4be5-a6d6-77093384095c"
      },
      "outputs": [
        {
          "output_type": "execute_result",
          "data": {
            "text/plain": [
              "2"
            ]
          },
          "metadata": {},
          "execution_count": 19
        }
      ],
      "source": [
        "1 + 1"
      ]
    },
    {
      "cell_type": "code",
      "source": [
        "1 + 2 , 3 / 2.4 , 3*9"
      ],
      "metadata": {
        "id": "M69UovnuRq_E",
        "colab": {
          "base_uri": "https://localhost:8080/"
        },
        "outputId": "6ca02abf-cdc3-46ab-9016-8a20df22bbc6"
      },
      "execution_count": 18,
      "outputs": [
        {
          "output_type": "execute_result",
          "data": {
            "text/plain": [
              "(3, 1.25, 27)"
            ]
          },
          "metadata": {},
          "execution_count": 18
        }
      ]
    },
    {
      "cell_type": "code",
      "source": [
        "a = 1\n",
        "b = 2\n",
        "a + b"
      ],
      "metadata": {
        "id": "pJ3nhuv5S6DB",
        "colab": {
          "base_uri": "https://localhost:8080/"
        },
        "outputId": "067680c0-6889-443e-b01f-4aec4abdd24e"
      },
      "execution_count": 17,
      "outputs": [
        {
          "output_type": "execute_result",
          "data": {
            "text/plain": [
              "3"
            ]
          },
          "metadata": {},
          "execution_count": 17
        }
      ]
    },
    {
      "cell_type": "code",
      "source": [
        "a = \"python\"\n",
        "print(a)"
      ],
      "metadata": {
        "id": "2zrNb67sffIK",
        "colab": {
          "base_uri": "https://localhost:8080/"
        },
        "outputId": "447f2d3f-9f3b-4a9f-bf8d-f1bd15123c39"
      },
      "execution_count": 16,
      "outputs": [
        {
          "output_type": "stream",
          "name": "stdout",
          "text": [
            "python\n"
          ]
        }
      ]
    },
    {
      "cell_type": "code",
      "source": [
        "a = 3\n",
        "if a > 1 :\n",
        "  print (\"a는 1 보다 큼\")"
      ],
      "metadata": {
        "colab": {
          "base_uri": "https://localhost:8080/"
        },
        "id": "skW5K-psg6nB",
        "outputId": "bb4961e7-966f-4749-eded-4de7714d91ce"
      },
      "execution_count": 15,
      "outputs": [
        {
          "output_type": "stream",
          "name": "stdout",
          "text": [
            "a는 1 보다 큼\n"
          ]
        }
      ]
    },
    {
      "cell_type": "code",
      "source": [
        "a = 3\n",
        "print(\"a 에 저장된 값은\" , a)\n",
        "print(\"a > 1?\" , a > 1)\n",
        "\n",
        "if a > 1 :\n",
        "  print(\"a 는 1 보다 큼\")"
      ],
      "metadata": {
        "colab": {
          "base_uri": "https://localhost:8080/"
        },
        "id": "WJ2z0X1tiHCN",
        "outputId": "4816e27a-3301-4662-d996-1314c2eb096f"
      },
      "execution_count": 14,
      "outputs": [
        {
          "output_type": "stream",
          "name": "stdout",
          "text": [
            "a 에 저장된 값은 3\n",
            "a > 1? True\n",
            "a 는 1 보다 큼\n"
          ]
        }
      ]
    },
    {
      "cell_type": "code",
      "source": [
        "for a in (1, 2, 3) :\n",
        "  print(a)"
      ],
      "metadata": {
        "colab": {
          "base_uri": "https://localhost:8080/"
        },
        "id": "Vmgqqg9kirRc",
        "outputId": "1fb90eaa-716d-4ae7-d4ac-e24765d82968"
      },
      "execution_count": 13,
      "outputs": [
        {
          "output_type": "stream",
          "name": "stdout",
          "text": [
            "1\n",
            "2\n",
            "3\n"
          ]
        }
      ]
    },
    {
      "cell_type": "code",
      "source": [
        "z = 0\n",
        "for a in range(1, 5+1):\n",
        "  z = z + a\n",
        "  print(f\"a = {a}, z = {z:3d}\")"
      ],
      "metadata": {
        "colab": {
          "base_uri": "https://localhost:8080/"
        },
        "id": "sZuXEu5FkA_e",
        "outputId": "d8da51a9-f936-4b16-afc6-9453eaf5a007"
      },
      "execution_count": 12,
      "outputs": [
        {
          "output_type": "stream",
          "name": "stdout",
          "text": [
            "a = 1, z =   1\n",
            "a = 2, z =   3\n",
            "a = 3, z =   6\n",
            "a = 4, z =  10\n",
            "a = 5, z =  15\n"
          ]
        }
      ]
    },
    {
      "cell_type": "code",
      "source": [
        "i = 0\n",
        "while i < 3:\n",
        "  i = i + 1\n",
        "  print(i)"
      ],
      "metadata": {
        "colab": {
          "base_uri": "https://localhost:8080/"
        },
        "id": "x7fnMTfAlOpF",
        "outputId": "50220b17-b0a5-4ba0-c86b-47ebf200a579"
      },
      "execution_count": 11,
      "outputs": [
        {
          "output_type": "stream",
          "name": "stdout",
          "text": [
            "1\n",
            "2\n",
            "3\n"
          ]
        }
      ]
    },
    {
      "cell_type": "code",
      "source": [
        "def add(x, y):\n",
        "  return x + y"
      ],
      "metadata": {
        "id": "aC94GNj-l3qt"
      },
      "execution_count": 2,
      "outputs": []
    },
    {
      "cell_type": "code",
      "source": [
        "add(3, 4)"
      ],
      "metadata": {
        "id": "1sy2xYZhwjyk",
        "colab": {
          "base_uri": "https://localhost:8080/"
        },
        "outputId": "fb8e4f85-f464-41ab-ac1c-29b8fdc91d84"
      },
      "execution_count": 3,
      "outputs": [
        {
          "output_type": "execute_result",
          "data": {
            "text/plain": [
              "7"
            ]
          },
          "metadata": {},
          "execution_count": 3
        }
      ]
    },
    {
      "cell_type": "code",
      "source": [
        "add2 = lambda x, y : x + y"
      ],
      "metadata": {
        "id": "8Qt1OgTjuwVE"
      },
      "execution_count": 4,
      "outputs": []
    },
    {
      "cell_type": "code",
      "source": [
        "add2(3, 4)"
      ],
      "metadata": {
        "id": "VMveTg5prjJ_",
        "colab": {
          "base_uri": "https://localhost:8080/"
        },
        "outputId": "08c172a3-8844-4273-d6a2-651303b4a48b"
      },
      "execution_count": 5,
      "outputs": [
        {
          "output_type": "execute_result",
          "data": {
            "text/plain": [
              "7"
            ]
          },
          "metadata": {},
          "execution_count": 5
        }
      ]
    },
    {
      "cell_type": "code",
      "source": [
        "import pylab as py\n",
        "\n",
        "theta_deg = py.arange(-360, 360+1)\n",
        "theta_rad = py.deg2rad(theta_deg)\n",
        "sin_theta = py.sin(theta_rad)\n",
        "cos_theta = py.cos(theta_rad)\n",
        "\n",
        "py.plot(theta_deg, sin_theta, label = '$sin(\\\\theta)$')\n",
        "py.plot(theta_deg, cos_theta, label = r'$cos(\\theta)$')\n",
        "py.xlabel(r\"$\\theta$ (deg)\")\n",
        "py.legend(loc=0)\n",
        "py.grid(True)\n",
        "py.savefig(\"sin_cos.png\" , dpi=300)\n",
        "\n"
      ],
      "metadata": {
        "colab": {
          "base_uri": "https://localhost:8080/",
          "height": 453
        },
        "id": "Rd5dWtvV1Aul",
        "outputId": "f5258812-79f9-44ce-cec4-86e23c5343c2"
      },
      "execution_count": 25,
      "outputs": [
        {
          "output_type": "display_data",
          "data": {
            "text/plain": [
              "<Figure size 640x480 with 1 Axes>"
            ],
            "image/png": "[encoded data removed]"
          },
          "metadata": {}
        }
      ]
    },
    {
      "cell_type": "code",
      "source": [],
      "metadata": {
        "id": "bgE0mAxA4lde"
      },
      "execution_count": null,
      "outputs": []
    }
  ]
}